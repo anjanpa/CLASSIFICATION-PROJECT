{
  "nbformat": 4,
  "nbformat_minor": 0,
  "metadata": {
    "colab": {
      "name": "Heart disease classification using neural network.ipynb",
      "provenance": [],
      "collapsed_sections": [],
      "mount_file_id": "1jCA2-ZKLih-FnDK9emrXbbWgZYwYd448",
      "authorship_tag": "ABX9TyPx5YbN1C12LyDTKlLce/oK",
      "include_colab_link": true
    },
    "kernelspec": {
      "name": "python3",
      "display_name": "Python 3"
    },
    "accelerator": "GPU"
  },
  "cells": [
    {
      "cell_type": "markdown",
      "metadata": {
        "id": "view-in-github",
        "colab_type": "text"
      },
      "source": [
        "<a href=\"https://colab.research.google.com/github/anjanpa/CLASSIFICATION-PROJECT-Heart-Disease-Classification/blob/master/Heart_disease_classification_using_neural_network.ipynb\" target=\"_parent\"><img src=\"https://colab.research.google.com/assets/colab-badge.svg\" alt=\"Open In Colab\"/></a>"
      ]
    },
    {
      "cell_type": "markdown",
      "metadata": {
        "id": "U9Zzw9A7NZX2",
        "colab_type": "text"
      },
      "source": [
        "## Getting our tools ready"
      ]
    },
    {
      "cell_type": "code",
      "metadata": {
        "id": "9vK-qO8nOW0J",
        "colab_type": "code",
        "colab": {
          "base_uri": "https://localhost:8080/",
          "height": 72
        },
        "outputId": "bae9900d-8e80-459b-d765-337e5f8207ad"
      },
      "source": [
        "import pandas as pd\n",
        "import matplotlib.pyplot as plt\n",
        "import seaborn as sns\n"
      ],
      "execution_count": 1,
      "outputs": [
        {
          "output_type": "stream",
          "text": [
            "/usr/local/lib/python3.6/dist-packages/statsmodels/tools/_testing.py:19: FutureWarning: pandas.util.testing is deprecated. Use the functions in the public API at pandas.testing instead.\n",
            "  import pandas.util.testing as tm\n"
          ],
          "name": "stderr"
        }
      ]
    },
    {
      "cell_type": "code",
      "metadata": {
        "id": "1QjJ5FTdObc-",
        "colab_type": "code",
        "colab": {}
      },
      "source": [
        "## Importing the dataset\n",
        "data=pd.read_csv(\"/content/drive/My Drive/heart-disease.csv\")"
      ],
      "execution_count": 2,
      "outputs": []
    },
    {
      "cell_type": "markdown",
      "metadata": {
        "id": "hqd5NxRZqULO",
        "colab_type": "text"
      },
      "source": [
        "## Exploratory data analysis"
      ]
    },
    {
      "cell_type": "code",
      "metadata": {
        "id": "K1FyNprYqUe2",
        "colab_type": "code",
        "colab": {
          "base_uri": "https://localhost:8080/",
          "height": 197
        },
        "outputId": "6fcef07a-96dd-429c-b97d-a4deb4ead0b9"
      },
      "source": [
        "data.head()"
      ],
      "execution_count": 3,
      "outputs": [
        {
          "output_type": "execute_result",
          "data": {
            "text/html": [
              "<div>\n",
              "<style scoped>\n",
              "    .dataframe tbody tr th:only-of-type {\n",
              "        vertical-align: middle;\n",
              "    }\n",
              "\n",
              "    .dataframe tbody tr th {\n",
              "        vertical-align: top;\n",
              "    }\n",
              "\n",
              "    .dataframe thead th {\n",
              "        text-align: right;\n",
              "    }\n",
              "</style>\n",
              "<table border=\"1\" class=\"dataframe\">\n",
              "  <thead>\n",
              "    <tr style=\"text-align: right;\">\n",
              "      <th></th>\n",
              "      <th>age</th>\n",
              "      <th>sex</th>\n",
              "      <th>cp</th>\n",
              "      <th>trestbps</th>\n",
              "      <th>chol</th>\n",
              "      <th>fbs</th>\n",
              "      <th>restecg</th>\n",
              "      <th>thalach</th>\n",
              "      <th>exang</th>\n",
              "      <th>oldpeak</th>\n",
              "      <th>slope</th>\n",
              "      <th>ca</th>\n",
              "      <th>thal</th>\n",
              "      <th>target</th>\n",
              "    </tr>\n",
              "  </thead>\n",
              "  <tbody>\n",
              "    <tr>\n",
              "      <th>0</th>\n",
              "      <td>63</td>\n",
              "      <td>1</td>\n",
              "      <td>3</td>\n",
              "      <td>145</td>\n",
              "      <td>233</td>\n",
              "      <td>1</td>\n",
              "      <td>0</td>\n",
              "      <td>150</td>\n",
              "      <td>0</td>\n",
              "      <td>2.3</td>\n",
              "      <td>0</td>\n",
              "      <td>0</td>\n",
              "      <td>1</td>\n",
              "      <td>1</td>\n",
              "    </tr>\n",
              "    <tr>\n",
              "      <th>1</th>\n",
              "      <td>37</td>\n",
              "      <td>1</td>\n",
              "      <td>2</td>\n",
              "      <td>130</td>\n",
              "      <td>250</td>\n",
              "      <td>0</td>\n",
              "      <td>1</td>\n",
              "      <td>187</td>\n",
              "      <td>0</td>\n",
              "      <td>3.5</td>\n",
              "      <td>0</td>\n",
              "      <td>0</td>\n",
              "      <td>2</td>\n",
              "      <td>1</td>\n",
              "    </tr>\n",
              "    <tr>\n",
              "      <th>2</th>\n",
              "      <td>41</td>\n",
              "      <td>0</td>\n",
              "      <td>1</td>\n",
              "      <td>130</td>\n",
              "      <td>204</td>\n",
              "      <td>0</td>\n",
              "      <td>0</td>\n",
              "      <td>172</td>\n",
              "      <td>0</td>\n",
              "      <td>1.4</td>\n",
              "      <td>2</td>\n",
              "      <td>0</td>\n",
              "      <td>2</td>\n",
              "      <td>1</td>\n",
              "    </tr>\n",
              "    <tr>\n",
              "      <th>3</th>\n",
              "      <td>56</td>\n",
              "      <td>1</td>\n",
              "      <td>1</td>\n",
              "      <td>120</td>\n",
              "      <td>236</td>\n",
              "      <td>0</td>\n",
              "      <td>1</td>\n",
              "      <td>178</td>\n",
              "      <td>0</td>\n",
              "      <td>0.8</td>\n",
              "      <td>2</td>\n",
              "      <td>0</td>\n",
              "      <td>2</td>\n",
              "      <td>1</td>\n",
              "    </tr>\n",
              "    <tr>\n",
              "      <th>4</th>\n",
              "      <td>57</td>\n",
              "      <td>0</td>\n",
              "      <td>0</td>\n",
              "      <td>120</td>\n",
              "      <td>354</td>\n",
              "      <td>0</td>\n",
              "      <td>1</td>\n",
              "      <td>163</td>\n",
              "      <td>1</td>\n",
              "      <td>0.6</td>\n",
              "      <td>2</td>\n",
              "      <td>0</td>\n",
              "      <td>2</td>\n",
              "      <td>1</td>\n",
              "    </tr>\n",
              "  </tbody>\n",
              "</table>\n",
              "</div>"
            ],
            "text/plain": [
              "   age  sex  cp  trestbps  chol  fbs  ...  exang  oldpeak  slope  ca  thal  target\n",
              "0   63    1   3       145   233    1  ...      0      2.3      0   0     1       1\n",
              "1   37    1   2       130   250    0  ...      0      3.5      0   0     2       1\n",
              "2   41    0   1       130   204    0  ...      0      1.4      2   0     2       1\n",
              "3   56    1   1       120   236    0  ...      0      0.8      2   0     2       1\n",
              "4   57    0   0       120   354    0  ...      1      0.6      2   0     2       1\n",
              "\n",
              "[5 rows x 14 columns]"
            ]
          },
          "metadata": {
            "tags": []
          },
          "execution_count": 3
        }
      ]
    },
    {
      "cell_type": "code",
      "metadata": {
        "id": "CA6fOTMbqZ4A",
        "colab_type": "code",
        "colab": {
          "base_uri": "https://localhost:8080/",
          "height": 390
        },
        "outputId": "11995109-1902-4d3b-cf61-060c14d8fd54"
      },
      "source": [
        "data.info()"
      ],
      "execution_count": 5,
      "outputs": [
        {
          "output_type": "stream",
          "text": [
            "<class 'pandas.core.frame.DataFrame'>\n",
            "RangeIndex: 303 entries, 0 to 302\n",
            "Data columns (total 14 columns):\n",
            " #   Column    Non-Null Count  Dtype  \n",
            "---  ------    --------------  -----  \n",
            " 0   age       303 non-null    int64  \n",
            " 1   sex       303 non-null    int64  \n",
            " 2   cp        303 non-null    int64  \n",
            " 3   trestbps  303 non-null    int64  \n",
            " 4   chol      303 non-null    int64  \n",
            " 5   fbs       303 non-null    int64  \n",
            " 6   restecg   303 non-null    int64  \n",
            " 7   thalach   303 non-null    int64  \n",
            " 8   exang     303 non-null    int64  \n",
            " 9   oldpeak   303 non-null    float64\n",
            " 10  slope     303 non-null    int64  \n",
            " 11  ca        303 non-null    int64  \n",
            " 12  thal      303 non-null    int64  \n",
            " 13  target    303 non-null    int64  \n",
            "dtypes: float64(1), int64(13)\n",
            "memory usage: 33.3 KB\n"
          ],
          "name": "stdout"
        }
      ]
    },
    {
      "cell_type": "code",
      "metadata": {
        "id": "wO4XGJK5qdJh",
        "colab_type": "code",
        "colab": {
          "base_uri": "https://localhost:8080/",
          "height": 307
        },
        "outputId": "92466be0-dd69-4bf7-8b04-5103781e0457"
      },
      "source": [
        "data.describe()"
      ],
      "execution_count": 6,
      "outputs": [
        {
          "output_type": "execute_result",
          "data": {
            "text/html": [
              "<div>\n",
              "<style scoped>\n",
              "    .dataframe tbody tr th:only-of-type {\n",
              "        vertical-align: middle;\n",
              "    }\n",
              "\n",
              "    .dataframe tbody tr th {\n",
              "        vertical-align: top;\n",
              "    }\n",
              "\n",
              "    .dataframe thead th {\n",
              "        text-align: right;\n",
              "    }\n",
              "</style>\n",
              "<table border=\"1\" class=\"dataframe\">\n",
              "  <thead>\n",
              "    <tr style=\"text-align: right;\">\n",
              "      <th></th>\n",
              "      <th>age</th>\n",
              "      <th>sex</th>\n",
              "      <th>cp</th>\n",
              "      <th>trestbps</th>\n",
              "      <th>chol</th>\n",
              "      <th>fbs</th>\n",
              "      <th>restecg</th>\n",
              "      <th>thalach</th>\n",
              "      <th>exang</th>\n",
              "      <th>oldpeak</th>\n",
              "      <th>slope</th>\n",
              "      <th>ca</th>\n",
              "      <th>thal</th>\n",
              "      <th>target</th>\n",
              "    </tr>\n",
              "  </thead>\n",
              "  <tbody>\n",
              "    <tr>\n",
              "      <th>count</th>\n",
              "      <td>303.000000</td>\n",
              "      <td>303.000000</td>\n",
              "      <td>303.000000</td>\n",
              "      <td>303.000000</td>\n",
              "      <td>303.000000</td>\n",
              "      <td>303.000000</td>\n",
              "      <td>303.000000</td>\n",
              "      <td>303.000000</td>\n",
              "      <td>303.000000</td>\n",
              "      <td>303.000000</td>\n",
              "      <td>303.000000</td>\n",
              "      <td>303.000000</td>\n",
              "      <td>303.000000</td>\n",
              "      <td>303.000000</td>\n",
              "    </tr>\n",
              "    <tr>\n",
              "      <th>mean</th>\n",
              "      <td>54.366337</td>\n",
              "      <td>0.683168</td>\n",
              "      <td>0.966997</td>\n",
              "      <td>131.623762</td>\n",
              "      <td>246.264026</td>\n",
              "      <td>0.148515</td>\n",
              "      <td>0.528053</td>\n",
              "      <td>149.646865</td>\n",
              "      <td>0.326733</td>\n",
              "      <td>1.039604</td>\n",
              "      <td>1.399340</td>\n",
              "      <td>0.729373</td>\n",
              "      <td>2.313531</td>\n",
              "      <td>0.544554</td>\n",
              "    </tr>\n",
              "    <tr>\n",
              "      <th>std</th>\n",
              "      <td>9.082101</td>\n",
              "      <td>0.466011</td>\n",
              "      <td>1.032052</td>\n",
              "      <td>17.538143</td>\n",
              "      <td>51.830751</td>\n",
              "      <td>0.356198</td>\n",
              "      <td>0.525860</td>\n",
              "      <td>22.905161</td>\n",
              "      <td>0.469794</td>\n",
              "      <td>1.161075</td>\n",
              "      <td>0.616226</td>\n",
              "      <td>1.022606</td>\n",
              "      <td>0.612277</td>\n",
              "      <td>0.498835</td>\n",
              "    </tr>\n",
              "    <tr>\n",
              "      <th>min</th>\n",
              "      <td>29.000000</td>\n",
              "      <td>0.000000</td>\n",
              "      <td>0.000000</td>\n",
              "      <td>94.000000</td>\n",
              "      <td>126.000000</td>\n",
              "      <td>0.000000</td>\n",
              "      <td>0.000000</td>\n",
              "      <td>71.000000</td>\n",
              "      <td>0.000000</td>\n",
              "      <td>0.000000</td>\n",
              "      <td>0.000000</td>\n",
              "      <td>0.000000</td>\n",
              "      <td>0.000000</td>\n",
              "      <td>0.000000</td>\n",
              "    </tr>\n",
              "    <tr>\n",
              "      <th>25%</th>\n",
              "      <td>47.500000</td>\n",
              "      <td>0.000000</td>\n",
              "      <td>0.000000</td>\n",
              "      <td>120.000000</td>\n",
              "      <td>211.000000</td>\n",
              "      <td>0.000000</td>\n",
              "      <td>0.000000</td>\n",
              "      <td>133.500000</td>\n",
              "      <td>0.000000</td>\n",
              "      <td>0.000000</td>\n",
              "      <td>1.000000</td>\n",
              "      <td>0.000000</td>\n",
              "      <td>2.000000</td>\n",
              "      <td>0.000000</td>\n",
              "    </tr>\n",
              "    <tr>\n",
              "      <th>50%</th>\n",
              "      <td>55.000000</td>\n",
              "      <td>1.000000</td>\n",
              "      <td>1.000000</td>\n",
              "      <td>130.000000</td>\n",
              "      <td>240.000000</td>\n",
              "      <td>0.000000</td>\n",
              "      <td>1.000000</td>\n",
              "      <td>153.000000</td>\n",
              "      <td>0.000000</td>\n",
              "      <td>0.800000</td>\n",
              "      <td>1.000000</td>\n",
              "      <td>0.000000</td>\n",
              "      <td>2.000000</td>\n",
              "      <td>1.000000</td>\n",
              "    </tr>\n",
              "    <tr>\n",
              "      <th>75%</th>\n",
              "      <td>61.000000</td>\n",
              "      <td>1.000000</td>\n",
              "      <td>2.000000</td>\n",
              "      <td>140.000000</td>\n",
              "      <td>274.500000</td>\n",
              "      <td>0.000000</td>\n",
              "      <td>1.000000</td>\n",
              "      <td>166.000000</td>\n",
              "      <td>1.000000</td>\n",
              "      <td>1.600000</td>\n",
              "      <td>2.000000</td>\n",
              "      <td>1.000000</td>\n",
              "      <td>3.000000</td>\n",
              "      <td>1.000000</td>\n",
              "    </tr>\n",
              "    <tr>\n",
              "      <th>max</th>\n",
              "      <td>77.000000</td>\n",
              "      <td>1.000000</td>\n",
              "      <td>3.000000</td>\n",
              "      <td>200.000000</td>\n",
              "      <td>564.000000</td>\n",
              "      <td>1.000000</td>\n",
              "      <td>2.000000</td>\n",
              "      <td>202.000000</td>\n",
              "      <td>1.000000</td>\n",
              "      <td>6.200000</td>\n",
              "      <td>2.000000</td>\n",
              "      <td>4.000000</td>\n",
              "      <td>3.000000</td>\n",
              "      <td>1.000000</td>\n",
              "    </tr>\n",
              "  </tbody>\n",
              "</table>\n",
              "</div>"
            ],
            "text/plain": [
              "              age         sex          cp  ...          ca        thal      target\n",
              "count  303.000000  303.000000  303.000000  ...  303.000000  303.000000  303.000000\n",
              "mean    54.366337    0.683168    0.966997  ...    0.729373    2.313531    0.544554\n",
              "std      9.082101    0.466011    1.032052  ...    1.022606    0.612277    0.498835\n",
              "min     29.000000    0.000000    0.000000  ...    0.000000    0.000000    0.000000\n",
              "25%     47.500000    0.000000    0.000000  ...    0.000000    2.000000    0.000000\n",
              "50%     55.000000    1.000000    1.000000  ...    0.000000    2.000000    1.000000\n",
              "75%     61.000000    1.000000    2.000000  ...    1.000000    3.000000    1.000000\n",
              "max     77.000000    1.000000    3.000000  ...    4.000000    3.000000    1.000000\n",
              "\n",
              "[8 rows x 14 columns]"
            ]
          },
          "metadata": {
            "tags": []
          },
          "execution_count": 6
        }
      ]
    },
    {
      "cell_type": "code",
      "metadata": {
        "id": "Z6F9b4Rdqi37",
        "colab_type": "code",
        "colab": {
          "base_uri": "https://localhost:8080/",
          "height": 606
        },
        "outputId": "7cb41593-a813-4abd-ea23-9cb7a889b158"
      },
      "source": [
        "## Finding the correlation using seaborn heatmap\n",
        "corr=data.corr()\n",
        "fig,ax=plt.subplots(figsize=(15,10))\n",
        "ax=sns.heatmap(corr,\n",
        "               annot=True,\n",
        "               cbar=False,\n",
        "               cmap=\"YlGnBu\",\n",
        "               linewidth=0.3,\n",
        "               fmt=\".2f\")\n",
        "plt.title(\"Correlation matrix\")\n",
        "plt.show()"
      ],
      "execution_count": 11,
      "outputs": [
        {
          "output_type": "display_data",
          "data": {
            "image/png": "[encoded data removed]",
            "text/plain": [
              "<Figure size 1080x720 with 1 Axes>"
            ]
          },
          "metadata": {
            "tags": [],
            "needs_background": "light"
          }
        }
      ]
    },
    {
      "cell_type": "code",
      "metadata": {
        "id": "a9TifO-tq-uP",
        "colab_type": "code",
        "colab": {
          "base_uri": "https://localhost:8080/",
          "height": 34
        },
        "outputId": "a89adea3-16bc-429c-cae6-53210ec10bc9"
      },
      "source": [
        "data.isna().sum().sum()"
      ],
      "execution_count": 14,
      "outputs": [
        {
          "output_type": "execute_result",
          "data": {
            "text/plain": [
              "0"
            ]
          },
          "metadata": {
            "tags": []
          },
          "execution_count": 14
        }
      ]
    },
    {
      "cell_type": "markdown",
      "metadata": {
        "id": "QqhAHOkTrqZz",
        "colab_type": "text"
      },
      "source": [
        "## Modelling "
      ]
    },
    {
      "cell_type": "markdown",
      "metadata": {
        "id": "l8Jsty9K3Fgs",
        "colab_type": "text"
      },
      "source": [
        "### Using machine learning algorithms from sklearn"
      ]
    },
    {
      "cell_type": "code",
      "metadata": {
        "id": "QM5hoPjgtSPT",
        "colab_type": "code",
        "colab": {}
      },
      "source": [
        "from sklearn.neural_network import MLPClassifier\n",
        "from sklearn.ensemble import RandomForestClassifier,AdaBoostClassifier,GradientBoostingClassifier\n",
        "from sklearn.linear_model import LogisticRegression\n",
        "from sklearn.naive_bayes import GaussianNB\n",
        "from sklearn.svm import LinearSVC\n",
        "from sklearn.tree import DecisionTreeClassifier"
      ],
      "execution_count": 18,
      "outputs": []
    },
    {
      "cell_type": "code",
      "metadata": {
        "id": "soCuonZyrvnN",
        "colab_type": "code",
        "colab": {}
      },
      "source": [
        "models={\"RandomForest\":RandomForestClassifier(),\n",
        "        \"LogisticRegression\":LogisticRegression(),\n",
        "        \"Gradient\":GradientBoostingClassifier(),\n",
        "        \"NaiveBayesClassifier\":GaussianNB(),\n",
        "        \"LinearSVC\":LinearSVC(),\n",
        "        \"DecisionTree\":DecisionTreeClassifier(),\n",
        "        #\"AdaBoostClassifier\":AdaBoostClassifier(),\n",
        "        #\"Neuralnetwork\":MLPClassifier()\n",
        "        }"
      ],
      "execution_count": 32,
      "outputs": []
    },
    {
      "cell_type": "code",
      "metadata": {
        "id": "dzM3FfiYrv_R",
        "colab_type": "code",
        "colab": {}
      },
      "source": [
        ""
      ],
      "execution_count": null,
      "outputs": []
    },
    {
      "cell_type": "code",
      "metadata": {
        "id": "xPWX9VBzt5XX",
        "colab_type": "code",
        "colab": {
          "base_uri": "https://localhost:8080/",
          "height": 34
        },
        "outputId": "fd382eb1-cde6-4810-d872-3da9dd767659"
      },
      "source": [
        "## Splitting the data\n",
        "from sklearn.model_selection import train_test_split\n",
        "X=data.drop(\"target\",axis=1)\n",
        "y=data[\"target\"]\n",
        "X_train,X_valid,y_train,y_valid=train_test_split(X,\n",
        "                                                 y,\n",
        "                                                 test_size=0.2)\n",
        "X_train.shape,X_valid.shape,y_train.shape,y_valid.shape"
      ],
      "execution_count": 33,
      "outputs": [
        {
          "output_type": "execute_result",
          "data": {
            "text/plain": [
              "((242, 13), (61, 13), (242,), (61,))"
            ]
          },
          "metadata": {
            "tags": []
          },
          "execution_count": 33
        }
      ]
    },
    {
      "cell_type": "code",
      "metadata": {
        "id": "vr0870PEu-iU",
        "colab_type": "code",
        "colab": {}
      },
      "source": [
        "from sklearn.metrics import confusion_matrix"
      ],
      "execution_count": 21,
      "outputs": []
    },
    {
      "cell_type": "code",
      "metadata": {
        "id": "y8tJkQqOrwH5",
        "colab_type": "code",
        "colab": {}
      },
      "source": [
        "result={}\n",
        "def fit_and_score(models,X_train,y_train,X_valid,y_valid):\n",
        "  for model_name,model in models.items():\n",
        "    model.fit(X_train,y_train)\n",
        "    result[model_name]=model.score(X_valid,y_valid)\n",
        "  return result"
      ],
      "execution_count": 36,
      "outputs": []
    },
    {
      "cell_type": "code",
      "metadata": {
        "id": "8Ua7sLXJrwQ5",
        "colab_type": "code",
        "colab": {
          "base_uri": "https://localhost:8080/",
          "height": 321
        },
        "outputId": "2e5e523b-baea-42b8-fd04-814006db1d8d"
      },
      "source": [
        "res=fit_and_score(models,X_train,y_train,X_valid,y_valid"
      ],
      "execution_count": 37,
      "outputs": [
        {
          "output_type": "stream",
          "text": [
            "/usr/local/lib/python3.6/dist-packages/sklearn/linear_model/_logistic.py:940: ConvergenceWarning: lbfgs failed to converge (status=1):\n",
            "STOP: TOTAL NO. of ITERATIONS REACHED LIMIT.\n",
            "\n",
            "Increase the number of iterations (max_iter) or scale the data as shown in:\n",
            "    https://scikit-learn.org/stable/modules/preprocessing.html\n",
            "Please also refer to the documentation for alternative solver options:\n",
            "    https://scikit-learn.org/stable/modules/linear_model.html#logistic-regression\n",
            "  extra_warning_msg=_LOGISTIC_SOLVER_CONVERGENCE_MSG)\n",
            "/usr/local/lib/python3.6/dist-packages/sklearn/svm/_base.py:947: ConvergenceWarning: Liblinear failed to converge, increase the number of iterations.\n",
            "  \"the number of iterations.\", ConvergenceWarning)\n"
          ],
          "name": "stderr"
        },
        {
          "output_type": "execute_result",
          "data": {
            "text/plain": [
              "{'DecisionTree': 0.6885245901639344,\n",
              " 'Gradient': 0.7704918032786885,\n",
              " 'LinearSVC': 0.7377049180327869,\n",
              " 'LogisticRegression': 0.819672131147541,\n",
              " 'NaiveBayesClassifier': 0.7868852459016393,\n",
              " 'RandomForest': 0.7213114754098361}"
            ]
          },
          "metadata": {
            "tags": []
          },
          "execution_count": 37
        }
      ]
    },
    {
      "cell_type": "markdown",
      "metadata": {
        "id": "YAkiOHU5xCR1",
        "colab_type": "text"
      },
      "source": [
        ""
      ]
    },
    {
      "cell_type": "code",
      "metadata": {
        "id": "WRoH5hMqv4XR",
        "colab_type": "code",
        "colab": {
          "base_uri": "https://localhost:8080/",
          "height": 123
        },
        "outputId": "83ee6bfa-6841-4cb7-ec43-0c4eebc7b6ed"
      },
      "source": [
        "res"
      ],
      "execution_count": 38,
      "outputs": [
        {
          "output_type": "execute_result",
          "data": {
            "text/plain": [
              "{'DecisionTree': 0.6885245901639344,\n",
              " 'Gradient': 0.7704918032786885,\n",
              " 'LinearSVC': 0.7377049180327869,\n",
              " 'LogisticRegression': 0.819672131147541,\n",
              " 'NaiveBayesClassifier': 0.7868852459016393,\n",
              " 'RandomForest': 0.7213114754098361}"
            ]
          },
          "metadata": {
            "tags": []
          },
          "execution_count": 38
        }
      ]
    },
    {
      "cell_type": "markdown",
      "metadata": {
        "id": "K_SHPod9xdxu",
        "colab_type": "text"
      },
      "source": [
        "### Using neural network"
      ]
    },
    {
      "cell_type": "code",
      "metadata": {
        "id": "YyEXu9pXyCQW",
        "colab_type": "code",
        "colab": {}
      },
      "source": [
        "import tensorflow as tf\n",
        "from tensorflow import feature_column\n",
        "from tensorflow.keras import layers\n",
        "from sklearn.model_selection import train_test_split"
      ],
      "execution_count": 39,
      "outputs": []
    },
    {
      "cell_type": "code",
      "metadata": {
        "id": "F4hU_PIvyJ8V",
        "colab_type": "code",
        "colab": {}
      },
      "source": [
        "def df_to_dataset(dataframe, shuffle=True, batch_size=32):\n",
        "  dataframe = dataframe.copy()\n",
        "  labels = dataframe.pop('target')\n",
        "  ds = tf.data.Dataset.from_tensor_slices((dict(dataframe), labels))\n",
        "  if shuffle:\n",
        "    ds = ds.shuffle(buffer_size=len(dataframe))\n",
        "  ds = ds.batch(batch_size)\n",
        "  return ds"
      ],
      "execution_count": 43,
      "outputs": []
    },
    {
      "cell_type": "code",
      "metadata": {
        "id": "JZGfoIwUysFh",
        "colab_type": "code",
        "colab": {}
      },
      "source": [
        ""
      ],
      "execution_count": null,
      "outputs": []
    },
    {
      "cell_type": "code",
      "metadata": {
        "id": "ZXn2-022zcqu",
        "colab_type": "code",
        "colab": {
          "base_uri": "https://localhost:8080/",
          "height": 197
        },
        "outputId": "ab90b2ee-625c-4d69-f4d4-93669ec4c51e"
      },
      "source": [
        "data.head()"
      ],
      "execution_count": 40,
      "outputs": [
        {
          "output_type": "execute_result",
          "data": {
            "text/html": [
              "<div>\n",
              "<style scoped>\n",
              "    .dataframe tbody tr th:only-of-type {\n",
              "        vertical-align: middle;\n",
              "    }\n",
              "\n",
              "    .dataframe tbody tr th {\n",
              "        vertical-align: top;\n",
              "    }\n",
              "\n",
              "    .dataframe thead th {\n",
              "        text-align: right;\n",
              "    }\n",
              "</style>\n",
              "<table border=\"1\" class=\"dataframe\">\n",
              "  <thead>\n",
              "    <tr style=\"text-align: right;\">\n",
              "      <th></th>\n",
              "      <th>age</th>\n",
              "      <th>sex</th>\n",
              "      <th>cp</th>\n",
              "      <th>trestbps</th>\n",
              "      <th>chol</th>\n",
              "      <th>fbs</th>\n",
              "      <th>restecg</th>\n",
              "      <th>thalach</th>\n",
              "      <th>exang</th>\n",
              "      <th>oldpeak</th>\n",
              "      <th>slope</th>\n",
              "      <th>ca</th>\n",
              "      <th>thal</th>\n",
              "      <th>target</th>\n",
              "    </tr>\n",
              "  </thead>\n",
              "  <tbody>\n",
              "    <tr>\n",
              "      <th>0</th>\n",
              "      <td>63</td>\n",
              "      <td>1</td>\n",
              "      <td>3</td>\n",
              "      <td>145</td>\n",
              "      <td>233</td>\n",
              "      <td>1</td>\n",
              "      <td>0</td>\n",
              "      <td>150</td>\n",
              "      <td>0</td>\n",
              "      <td>2.3</td>\n",
              "      <td>0</td>\n",
              "      <td>0</td>\n",
              "      <td>1</td>\n",
              "      <td>1</td>\n",
              "    </tr>\n",
              "    <tr>\n",
              "      <th>1</th>\n",
              "      <td>37</td>\n",
              "      <td>1</td>\n",
              "      <td>2</td>\n",
              "      <td>130</td>\n",
              "      <td>250</td>\n",
              "      <td>0</td>\n",
              "      <td>1</td>\n",
              "      <td>187</td>\n",
              "      <td>0</td>\n",
              "      <td>3.5</td>\n",
              "      <td>0</td>\n",
              "      <td>0</td>\n",
              "      <td>2</td>\n",
              "      <td>1</td>\n",
              "    </tr>\n",
              "    <tr>\n",
              "      <th>2</th>\n",
              "      <td>41</td>\n",
              "      <td>0</td>\n",
              "      <td>1</td>\n",
              "      <td>130</td>\n",
              "      <td>204</td>\n",
              "      <td>0</td>\n",
              "      <td>0</td>\n",
              "      <td>172</td>\n",
              "      <td>0</td>\n",
              "      <td>1.4</td>\n",
              "      <td>2</td>\n",
              "      <td>0</td>\n",
              "      <td>2</td>\n",
              "      <td>1</td>\n",
              "    </tr>\n",
              "    <tr>\n",
              "      <th>3</th>\n",
              "      <td>56</td>\n",
              "      <td>1</td>\n",
              "      <td>1</td>\n",
              "      <td>120</td>\n",
              "      <td>236</td>\n",
              "      <td>0</td>\n",
              "      <td>1</td>\n",
              "      <td>178</td>\n",
              "      <td>0</td>\n",
              "      <td>0.8</td>\n",
              "      <td>2</td>\n",
              "      <td>0</td>\n",
              "      <td>2</td>\n",
              "      <td>1</td>\n",
              "    </tr>\n",
              "    <tr>\n",
              "      <th>4</th>\n",
              "      <td>57</td>\n",
              "      <td>0</td>\n",
              "      <td>0</td>\n",
              "      <td>120</td>\n",
              "      <td>354</td>\n",
              "      <td>0</td>\n",
              "      <td>1</td>\n",
              "      <td>163</td>\n",
              "      <td>1</td>\n",
              "      <td>0.6</td>\n",
              "      <td>2</td>\n",
              "      <td>0</td>\n",
              "      <td>2</td>\n",
              "      <td>1</td>\n",
              "    </tr>\n",
              "  </tbody>\n",
              "</table>\n",
              "</div>"
            ],
            "text/plain": [
              "   age  sex  cp  trestbps  chol  fbs  ...  exang  oldpeak  slope  ca  thal  target\n",
              "0   63    1   3       145   233    1  ...      0      2.3      0   0     1       1\n",
              "1   37    1   2       130   250    0  ...      0      3.5      0   0     2       1\n",
              "2   41    0   1       130   204    0  ...      0      1.4      2   0     2       1\n",
              "3   56    1   1       120   236    0  ...      0      0.8      2   0     2       1\n",
              "4   57    0   0       120   354    0  ...      1      0.6      2   0     2       1\n",
              "\n",
              "[5 rows x 14 columns]"
            ]
          },
          "metadata": {
            "tags": []
          },
          "execution_count": 40
        }
      ]
    },
    {
      "cell_type": "code",
      "metadata": {
        "id": "KCqdZMxx0GcB",
        "colab_type": "code",
        "colab": {
          "base_uri": "https://localhost:8080/",
          "height": 70
        },
        "outputId": "16cebb59-37cb-49ed-8341-b8d6450cb3fb"
      },
      "source": [
        "data.columns"
      ],
      "execution_count": 42,
      "outputs": [
        {
          "output_type": "execute_result",
          "data": {
            "text/plain": [
              "Index(['age', 'sex', 'cp', 'trestbps', 'chol', 'fbs', 'restecg', 'thalach',\n",
              "       'exang', 'oldpeak', 'slope', 'ca', 'thal', 'target'],\n",
              "      dtype='object')"
            ]
          },
          "metadata": {
            "tags": []
          },
          "execution_count": 42
        }
      ]
    },
    {
      "cell_type": "code",
      "metadata": {
        "id": "SMpaBE4T1XUS",
        "colab_type": "code",
        "colab": {}
      },
      "source": [
        "## Splitting the data\n",
        "train,test=train_test_split(data,test_size=0.2)\n",
        "train,val=train_test_split(train,test_size=0.2)"
      ],
      "execution_count": 47,
      "outputs": []
    },
    {
      "cell_type": "code",
      "metadata": {
        "id": "NqLTwtxwzEcc",
        "colab_type": "code",
        "colab": {}
      },
      "source": [
        "## Make different columns\n",
        "\n",
        "## Feature columns\n",
        "feature_columns = []\n",
        "\n",
        "# numeric cols\n",
        "for header in ['age', 'trestbps', 'chol', 'fbs', 'restecg', 'thalach',\n",
        "       'exang', 'oldpeak', 'slope', 'ca', 'thal']:\n",
        "  feature_columns.append(feature_column.numeric_column(header))\n",
        "\n",
        "\n",
        "## # bucketized cols\n",
        "age = feature_column.numeric_column('age')\n",
        "age_buckets = feature_column.bucketized_column(age, boundaries=[1, 2, 3, 4, 5])\n",
        "feature_columns.append(age_buckets)\n",
        "\n",
        "# indicator_columns\n",
        "indicator_column_names = ['sex','cp']\n",
        "for col_name in indicator_column_names:\n",
        "  categorical_column = feature_column.categorical_column_with_vocabulary_list(\n",
        "      col_name, data[col_name].unique())\n",
        "  indicator_column = feature_column.indicator_column(categorical_column)\n",
        "  feature_columns.append(indicator_column)\n",
        "\n",
        "\n",
        "\n",
        "\n",
        "feature_layer = tf.keras.layers.DenseFeatures(feature_columns)\n",
        "\n",
        "# Earlier, we used a small batch size to demonstrate how feature columns worked. We create a new input pipeline with a larger batch size.\n",
        "\n",
        "batch_size = 32\n",
        "train_ds = df_to_dataset(train, batch_size=batch_size)\n",
        "val_ds = df_to_dataset(val, shuffle=False, batch_size=batch_size)\n",
        "test_ds = df_to_dataset(test, shuffle=False, batch_size=batch_size)"
      ],
      "execution_count": 48,
      "outputs": []
    },
    {
      "cell_type": "code",
      "metadata": {
        "id": "uhhjTgu_1MMJ",
        "colab_type": "code",
        "colab": {
          "base_uri": "https://localhost:8080/",
          "height": 1000
        },
        "outputId": "6b0a729c-6344-4906-b009-33dc75a0123f"
      },
      "source": [
        "### Developing model,compiling it and training it\n",
        "model = tf.keras.Sequential([\n",
        "  feature_layer,\n",
        "  layers.Dense(128, activation='relu'),\n",
        "  layers.Dense(128, activation='relu'),\n",
        "  layers.Dropout(.1),\n",
        "  layers.Dense(1)\n",
        "])\n",
        "\n",
        "model.compile(optimizer='adam',\n",
        "              loss=tf.keras.losses.BinaryCrossentropy(from_logits=True),\n",
        "              metrics=['accuracy'])\n",
        "\n",
        "model.fit(train_ds,\n",
        "          validation_data=val_ds,\n",
        "          epochs=100)"
      ],
      "execution_count": 52,
      "outputs": [
        {
          "output_type": "stream",
          "text": [
            "Epoch 1/100\n",
            "WARNING:tensorflow:Layers in a Sequential model should only have a single input tensor, but we receive a <class 'dict'> input: {'age': <tf.Tensor 'ExpandDims:0' shape=(None, 1) dtype=int64>, 'sex': <tf.Tensor 'ExpandDims_8:0' shape=(None, 1) dtype=int64>, 'cp': <tf.Tensor 'ExpandDims_3:0' shape=(None, 1) dtype=int64>, 'trestbps': <tf.Tensor 'ExpandDims_12:0' shape=(None, 1) dtype=int64>, 'chol': <tf.Tensor 'ExpandDims_2:0' shape=(None, 1) dtype=int64>, 'fbs': <tf.Tensor 'ExpandDims_5:0' shape=(None, 1) dtype=int64>, 'restecg': <tf.Tensor 'ExpandDims_7:0' shape=(None, 1) dtype=int64>, 'thalach': <tf.Tensor 'ExpandDims_11:0' shape=(None, 1) dtype=int64>, 'exang': <tf.Tensor 'ExpandDims_4:0' shape=(None, 1) dtype=int64>, 'oldpeak': <tf.Tensor 'ExpandDims_6:0' shape=(None, 1) dtype=float64>, 'slope': <tf.Tensor 'ExpandDims_9:0' shape=(None, 1) dtype=int64>, 'ca': <tf.Tensor 'ExpandDims_1:0' shape=(None, 1) dtype=int64>, 'thal': <tf.Tensor 'ExpandDims_10:0' shape=(None, 1) dtype=int64>}\n",
            "Consider rewriting this model with the Functional API.\n",
            "WARNING:tensorflow:Layers in a Sequential model should only have a single input tensor, but we receive a <class 'dict'> input: {'age': <tf.Tensor 'ExpandDims:0' shape=(None, 1) dtype=int64>, 'sex': <tf.Tensor 'ExpandDims_8:0' shape=(None, 1) dtype=int64>, 'cp': <tf.Tensor 'ExpandDims_3:0' shape=(None, 1) dtype=int64>, 'trestbps': <tf.Tensor 'ExpandDims_12:0' shape=(None, 1) dtype=int64>, 'chol': <tf.Tensor 'ExpandDims_2:0' shape=(None, 1) dtype=int64>, 'fbs': <tf.Tensor 'ExpandDims_5:0' shape=(None, 1) dtype=int64>, 'restecg': <tf.Tensor 'ExpandDims_7:0' shape=(None, 1) dtype=int64>, 'thalach': <tf.Tensor 'ExpandDims_11:0' shape=(None, 1) dtype=int64>, 'exang': <tf.Tensor 'ExpandDims_4:0' shape=(None, 1) dtype=int64>, 'oldpeak': <tf.Tensor 'ExpandDims_6:0' shape=(None, 1) dtype=float64>, 'slope': <tf.Tensor 'ExpandDims_9:0' shape=(None, 1) dtype=int64>, 'ca': <tf.Tensor 'ExpandDims_1:0' shape=(None, 1) dtype=int64>, 'thal': <tf.Tensor 'ExpandDims_10:0' shape=(None, 1) dtype=int64>}\n",
            "Consider rewriting this model with the Functional API.\n",
            "1/7 [===>..........................] - ETA: 0s - loss: 3.7076 - accuracy: 0.3750WARNING:tensorflow:Layers in a Sequential model should only have a single input tensor, but we receive a <class 'dict'> input: {'age': <tf.Tensor 'ExpandDims:0' shape=(None, 1) dtype=int64>, 'sex': <tf.Tensor 'ExpandDims_8:0' shape=(None, 1) dtype=int64>, 'cp': <tf.Tensor 'ExpandDims_3:0' shape=(None, 1) dtype=int64>, 'trestbps': <tf.Tensor 'ExpandDims_12:0' shape=(None, 1) dtype=int64>, 'chol': <tf.Tensor 'ExpandDims_2:0' shape=(None, 1) dtype=int64>, 'fbs': <tf.Tensor 'ExpandDims_5:0' shape=(None, 1) dtype=int64>, 'restecg': <tf.Tensor 'ExpandDims_7:0' shape=(None, 1) dtype=int64>, 'thalach': <tf.Tensor 'ExpandDims_11:0' shape=(None, 1) dtype=int64>, 'exang': <tf.Tensor 'ExpandDims_4:0' shape=(None, 1) dtype=int64>, 'oldpeak': <tf.Tensor 'ExpandDims_6:0' shape=(None, 1) dtype=float64>, 'slope': <tf.Tensor 'ExpandDims_9:0' shape=(None, 1) dtype=int64>, 'ca': <tf.Tensor 'ExpandDims_1:0' shape=(None, 1) dtype=int64>, 'thal': <tf.Tensor 'ExpandDims_10:0' shape=(None, 1) dtype=int64>}\n",
            "Consider rewriting this model with the Functional API.\n",
            "7/7 [==============================] - 0s 50ms/step - loss: 5.3186 - accuracy: 0.4560 - val_loss: 1.6258 - val_accuracy: 0.4490\n",
            "Epoch 2/100\n",
            "7/7 [==============================] - 0s 5ms/step - loss: 2.5404 - accuracy: 0.6218 - val_loss: 0.9883 - val_accuracy: 0.5510\n",
            "Epoch 3/100\n",
            "7/7 [==============================] - 0s 5ms/step - loss: 4.3714 - accuracy: 0.5130 - val_loss: 2.2340 - val_accuracy: 0.5714\n",
            "Epoch 4/100\n",
            "7/7 [==============================] - 0s 5ms/step - loss: 4.7625 - accuracy: 0.5285 - val_loss: 1.6065 - val_accuracy: 0.5918\n",
            "Epoch 5/100\n",
            "7/7 [==============================] - 0s 5ms/step - loss: 1.9287 - accuracy: 0.6166 - val_loss: 3.1992 - val_accuracy: 0.4694\n",
            "Epoch 6/100\n",
            "7/7 [==============================] - 0s 5ms/step - loss: 4.1244 - accuracy: 0.5389 - val_loss: 1.2211 - val_accuracy: 0.6531\n",
            "Epoch 7/100\n",
            "7/7 [==============================] - 0s 5ms/step - loss: 3.2529 - accuracy: 0.5492 - val_loss: 1.3044 - val_accuracy: 0.5714\n",
            "Epoch 8/100\n",
            "7/7 [==============================] - 0s 6ms/step - loss: 2.4858 - accuracy: 0.6373 - val_loss: 1.4215 - val_accuracy: 0.6122\n",
            "Epoch 9/100\n",
            "7/7 [==============================] - 0s 5ms/step - loss: 4.4298 - accuracy: 0.5440 - val_loss: 0.8318 - val_accuracy: 0.7347\n",
            "Epoch 10/100\n",
            "7/7 [==============================] - 0s 5ms/step - loss: 3.5688 - accuracy: 0.5855 - val_loss: 3.1429 - val_accuracy: 0.5102\n",
            "Epoch 11/100\n",
            "7/7 [==============================] - 0s 5ms/step - loss: 2.3199 - accuracy: 0.6114 - val_loss: 2.1965 - val_accuracy: 0.5918\n",
            "Epoch 12/100\n",
            "7/7 [==============================] - 0s 5ms/step - loss: 2.3474 - accuracy: 0.5596 - val_loss: 1.2825 - val_accuracy: 0.6327\n",
            "Epoch 13/100\n",
            "7/7 [==============================] - 0s 5ms/step - loss: 2.1156 - accuracy: 0.6166 - val_loss: 1.6272 - val_accuracy: 0.6122\n",
            "Epoch 14/100\n",
            "7/7 [==============================] - 0s 5ms/step - loss: 2.5655 - accuracy: 0.5959 - val_loss: 1.0317 - val_accuracy: 0.7143\n",
            "Epoch 15/100\n",
            "7/7 [==============================] - 0s 5ms/step - loss: 1.5219 - accuracy: 0.6580 - val_loss: 1.4945 - val_accuracy: 0.6531\n",
            "Epoch 16/100\n",
            "7/7 [==============================] - 0s 5ms/step - loss: 1.6874 - accuracy: 0.6943 - val_loss: 1.1173 - val_accuracy: 0.7755\n",
            "Epoch 17/100\n",
            "7/7 [==============================] - 0s 4ms/step - loss: 1.5854 - accuracy: 0.6632 - val_loss: 1.0123 - val_accuracy: 0.7551\n",
            "Epoch 18/100\n",
            "7/7 [==============================] - 0s 5ms/step - loss: 1.2907 - accuracy: 0.6839 - val_loss: 0.9953 - val_accuracy: 0.7347\n",
            "Epoch 19/100\n",
            "7/7 [==============================] - 0s 5ms/step - loss: 1.4699 - accuracy: 0.6425 - val_loss: 0.9131 - val_accuracy: 0.7143\n",
            "Epoch 20/100\n",
            "7/7 [==============================] - 0s 4ms/step - loss: 1.1757 - accuracy: 0.6736 - val_loss: 0.9169 - val_accuracy: 0.7551\n",
            "Epoch 21/100\n",
            "7/7 [==============================] - 0s 5ms/step - loss: 1.4916 - accuracy: 0.6269 - val_loss: 1.2517 - val_accuracy: 0.6122\n",
            "Epoch 22/100\n",
            "7/7 [==============================] - 0s 5ms/step - loss: 2.0913 - accuracy: 0.5648 - val_loss: 1.6924 - val_accuracy: 0.6327\n",
            "Epoch 23/100\n",
            "7/7 [==============================] - 0s 5ms/step - loss: 2.6466 - accuracy: 0.6218 - val_loss: 0.7957 - val_accuracy: 0.6735\n",
            "Epoch 24/100\n",
            "7/7 [==============================] - 0s 6ms/step - loss: 1.4842 - accuracy: 0.6373 - val_loss: 0.7860 - val_accuracy: 0.7347\n",
            "Epoch 25/100\n",
            "7/7 [==============================] - 0s 5ms/step - loss: 1.3153 - accuracy: 0.6321 - val_loss: 0.9665 - val_accuracy: 0.6735\n",
            "Epoch 26/100\n",
            "7/7 [==============================] - 0s 5ms/step - loss: 1.2073 - accuracy: 0.6373 - val_loss: 0.7762 - val_accuracy: 0.7347\n",
            "Epoch 27/100\n",
            "7/7 [==============================] - 0s 5ms/step - loss: 1.1509 - accuracy: 0.6425 - val_loss: 0.6869 - val_accuracy: 0.7347\n",
            "Epoch 28/100\n",
            "7/7 [==============================] - 0s 5ms/step - loss: 0.9601 - accuracy: 0.6736 - val_loss: 0.7688 - val_accuracy: 0.7143\n",
            "Epoch 29/100\n",
            "7/7 [==============================] - 0s 5ms/step - loss: 0.9672 - accuracy: 0.6839 - val_loss: 0.6160 - val_accuracy: 0.7755\n",
            "Epoch 30/100\n",
            "7/7 [==============================] - 0s 5ms/step - loss: 1.1920 - accuracy: 0.6736 - val_loss: 0.5521 - val_accuracy: 0.7347\n",
            "Epoch 31/100\n",
            "7/7 [==============================] - 0s 5ms/step - loss: 0.8566 - accuracy: 0.7047 - val_loss: 0.5217 - val_accuracy: 0.7755\n",
            "Epoch 32/100\n",
            "7/7 [==============================] - 0s 5ms/step - loss: 0.9867 - accuracy: 0.6528 - val_loss: 0.5655 - val_accuracy: 0.7347\n",
            "Epoch 33/100\n",
            "7/7 [==============================] - 0s 5ms/step - loss: 0.9549 - accuracy: 0.6477 - val_loss: 0.5035 - val_accuracy: 0.7347\n",
            "Epoch 34/100\n",
            "7/7 [==============================] - 0s 5ms/step - loss: 0.8580 - accuracy: 0.6891 - val_loss: 0.5242 - val_accuracy: 0.7755\n",
            "Epoch 35/100\n",
            "7/7 [==============================] - 0s 5ms/step - loss: 0.9355 - accuracy: 0.6373 - val_loss: 0.5236 - val_accuracy: 0.7143\n",
            "Epoch 36/100\n",
            "7/7 [==============================] - 0s 5ms/step - loss: 0.9230 - accuracy: 0.6166 - val_loss: 0.5384 - val_accuracy: 0.7347\n",
            "Epoch 37/100\n",
            "7/7 [==============================] - 0s 5ms/step - loss: 0.9051 - accuracy: 0.6477 - val_loss: 0.4647 - val_accuracy: 0.7755\n",
            "Epoch 38/100\n",
            "7/7 [==============================] - 0s 5ms/step - loss: 0.6645 - accuracy: 0.7047 - val_loss: 0.4638 - val_accuracy: 0.7347\n",
            "Epoch 39/100\n",
            "7/7 [==============================] - 0s 5ms/step - loss: 0.7146 - accuracy: 0.6995 - val_loss: 0.8746 - val_accuracy: 0.5714\n",
            "Epoch 40/100\n",
            "7/7 [==============================] - 0s 5ms/step - loss: 1.3652 - accuracy: 0.5699 - val_loss: 0.7684 - val_accuracy: 0.7143\n",
            "Epoch 41/100\n",
            "7/7 [==============================] - 0s 5ms/step - loss: 2.2341 - accuracy: 0.5751 - val_loss: 0.6776 - val_accuracy: 0.6735\n",
            "Epoch 42/100\n",
            "7/7 [==============================] - 0s 5ms/step - loss: 1.5880 - accuracy: 0.5959 - val_loss: 1.5120 - val_accuracy: 0.5306\n",
            "Epoch 43/100\n",
            "7/7 [==============================] - 0s 5ms/step - loss: 1.1893 - accuracy: 0.6632 - val_loss: 1.4494 - val_accuracy: 0.6122\n",
            "Epoch 44/100\n",
            "7/7 [==============================] - 0s 5ms/step - loss: 1.2533 - accuracy: 0.6477 - val_loss: 0.5648 - val_accuracy: 0.6735\n",
            "Epoch 45/100\n",
            "7/7 [==============================] - 0s 5ms/step - loss: 0.7323 - accuracy: 0.6632 - val_loss: 0.6103 - val_accuracy: 0.7143\n",
            "Epoch 46/100\n",
            "7/7 [==============================] - 0s 5ms/step - loss: 0.7443 - accuracy: 0.7098 - val_loss: 0.6010 - val_accuracy: 0.7143\n",
            "Epoch 47/100\n",
            "7/7 [==============================] - 0s 6ms/step - loss: 0.7844 - accuracy: 0.6684 - val_loss: 0.7465 - val_accuracy: 0.6939\n",
            "Epoch 48/100\n",
            "7/7 [==============================] - 0s 5ms/step - loss: 0.8891 - accuracy: 0.6788 - val_loss: 0.5694 - val_accuracy: 0.7551\n",
            "Epoch 49/100\n",
            "7/7 [==============================] - 0s 6ms/step - loss: 0.7710 - accuracy: 0.6580 - val_loss: 0.5629 - val_accuracy: 0.7347\n",
            "Epoch 50/100\n",
            "7/7 [==============================] - 0s 5ms/step - loss: 0.6726 - accuracy: 0.7098 - val_loss: 0.5210 - val_accuracy: 0.7551\n",
            "Epoch 51/100\n",
            "7/7 [==============================] - 0s 5ms/step - loss: 0.7289 - accuracy: 0.6218 - val_loss: 0.6110 - val_accuracy: 0.6531\n",
            "Epoch 52/100\n",
            "7/7 [==============================] - 0s 5ms/step - loss: 0.6494 - accuracy: 0.6166 - val_loss: 0.5749 - val_accuracy: 0.6735\n",
            "Epoch 53/100\n",
            "7/7 [==============================] - 0s 5ms/step - loss: 0.5997 - accuracy: 0.7098 - val_loss: 0.5180 - val_accuracy: 0.7347\n",
            "Epoch 54/100\n",
            "7/7 [==============================] - 0s 5ms/step - loss: 0.6578 - accuracy: 0.6736 - val_loss: 0.5079 - val_accuracy: 0.7143\n",
            "Epoch 55/100\n",
            "7/7 [==============================] - 0s 5ms/step - loss: 0.6617 - accuracy: 0.6891 - val_loss: 0.6490 - val_accuracy: 0.6531\n",
            "Epoch 56/100\n",
            "7/7 [==============================] - 0s 5ms/step - loss: 0.6256 - accuracy: 0.6891 - val_loss: 0.5941 - val_accuracy: 0.6327\n",
            "Epoch 57/100\n",
            "7/7 [==============================] - 0s 5ms/step - loss: 0.7333 - accuracy: 0.6062 - val_loss: 0.4995 - val_accuracy: 0.7347\n",
            "Epoch 58/100\n",
            "7/7 [==============================] - 0s 5ms/step - loss: 0.5671 - accuracy: 0.7150 - val_loss: 0.5394 - val_accuracy: 0.7143\n",
            "Epoch 59/100\n",
            "7/7 [==============================] - 0s 5ms/step - loss: 0.5950 - accuracy: 0.7254 - val_loss: 0.5100 - val_accuracy: 0.7347\n",
            "Epoch 60/100\n",
            "7/7 [==============================] - 0s 5ms/step - loss: 0.5929 - accuracy: 0.6632 - val_loss: 0.4887 - val_accuracy: 0.7755\n",
            "Epoch 61/100\n",
            "7/7 [==============================] - 0s 5ms/step - loss: 0.6766 - accuracy: 0.7047 - val_loss: 0.5254 - val_accuracy: 0.7551\n",
            "Epoch 62/100\n",
            "7/7 [==============================] - 0s 5ms/step - loss: 0.6332 - accuracy: 0.6580 - val_loss: 0.6683 - val_accuracy: 0.6122\n",
            "Epoch 63/100\n",
            "7/7 [==============================] - 0s 5ms/step - loss: 0.5806 - accuracy: 0.6736 - val_loss: 0.5248 - val_accuracy: 0.7347\n",
            "Epoch 64/100\n",
            "7/7 [==============================] - 0s 5ms/step - loss: 0.5615 - accuracy: 0.7202 - val_loss: 0.5251 - val_accuracy: 0.7347\n",
            "Epoch 65/100\n",
            "7/7 [==============================] - 0s 5ms/step - loss: 0.5829 - accuracy: 0.6891 - val_loss: 0.4892 - val_accuracy: 0.7755\n",
            "Epoch 66/100\n",
            "7/7 [==============================] - 0s 5ms/step - loss: 0.5477 - accuracy: 0.6891 - val_loss: 0.4897 - val_accuracy: 0.7755\n",
            "Epoch 67/100\n",
            "7/7 [==============================] - 0s 5ms/step - loss: 0.5433 - accuracy: 0.7617 - val_loss: 0.5056 - val_accuracy: 0.7959\n",
            "Epoch 68/100\n",
            "7/7 [==============================] - 0s 5ms/step - loss: 0.5657 - accuracy: 0.7254 - val_loss: 0.5159 - val_accuracy: 0.7347\n",
            "Epoch 69/100\n",
            "7/7 [==============================] - 0s 5ms/step - loss: 0.6119 - accuracy: 0.7306 - val_loss: 0.5708 - val_accuracy: 0.6735\n",
            "Epoch 70/100\n",
            "7/7 [==============================] - 0s 5ms/step - loss: 0.5610 - accuracy: 0.7047 - val_loss: 0.5901 - val_accuracy: 0.6327\n",
            "Epoch 71/100\n",
            "7/7 [==============================] - 0s 5ms/step - loss: 0.8184 - accuracy: 0.5699 - val_loss: 0.6332 - val_accuracy: 0.5510\n",
            "Epoch 72/100\n",
            "7/7 [==============================] - 0s 5ms/step - loss: 0.5784 - accuracy: 0.6425 - val_loss: 0.5402 - val_accuracy: 0.7143\n",
            "Epoch 73/100\n",
            "7/7 [==============================] - 0s 5ms/step - loss: 0.5258 - accuracy: 0.7202 - val_loss: 0.4992 - val_accuracy: 0.6939\n",
            "Epoch 74/100\n",
            "7/7 [==============================] - 0s 5ms/step - loss: 0.5022 - accuracy: 0.7098 - val_loss: 0.4992 - val_accuracy: 0.7347\n",
            "Epoch 75/100\n",
            "7/7 [==============================] - 0s 5ms/step - loss: 0.5448 - accuracy: 0.7098 - val_loss: 0.4956 - val_accuracy: 0.7551\n",
            "Epoch 76/100\n",
            "7/7 [==============================] - 0s 5ms/step - loss: 0.5042 - accuracy: 0.7254 - val_loss: 0.4930 - val_accuracy: 0.7755\n",
            "Epoch 77/100\n",
            "7/7 [==============================] - 0s 5ms/step - loss: 0.4855 - accuracy: 0.7358 - val_loss: 0.4900 - val_accuracy: 0.7551\n",
            "Epoch 78/100\n",
            "7/7 [==============================] - 0s 5ms/step - loss: 0.6110 - accuracy: 0.7254 - val_loss: 0.4811 - val_accuracy: 0.7551\n",
            "Epoch 79/100\n",
            "7/7 [==============================] - 0s 5ms/step - loss: 0.6972 - accuracy: 0.6321 - val_loss: 0.6454 - val_accuracy: 0.5510\n",
            "Epoch 80/100\n",
            "7/7 [==============================] - 0s 5ms/step - loss: 0.6427 - accuracy: 0.6166 - val_loss: 0.6095 - val_accuracy: 0.6531\n",
            "Epoch 81/100\n",
            "7/7 [==============================] - 0s 5ms/step - loss: 0.5311 - accuracy: 0.7098 - val_loss: 0.6064 - val_accuracy: 0.5510\n",
            "Epoch 82/100\n",
            "7/7 [==============================] - 0s 5ms/step - loss: 0.5553 - accuracy: 0.6632 - val_loss: 0.5290 - val_accuracy: 0.7551\n",
            "Epoch 83/100\n",
            "7/7 [==============================] - 0s 5ms/step - loss: 0.5959 - accuracy: 0.7202 - val_loss: 0.5260 - val_accuracy: 0.7347\n",
            "Epoch 84/100\n",
            "7/7 [==============================] - 0s 5ms/step - loss: 0.5352 - accuracy: 0.7150 - val_loss: 0.5142 - val_accuracy: 0.7551\n",
            "Epoch 85/100\n",
            "7/7 [==============================] - 0s 5ms/step - loss: 0.5361 - accuracy: 0.7565 - val_loss: 0.5462 - val_accuracy: 0.7143\n",
            "Epoch 86/100\n",
            "7/7 [==============================] - 0s 5ms/step - loss: 0.5391 - accuracy: 0.7098 - val_loss: 0.5482 - val_accuracy: 0.6939\n",
            "Epoch 87/100\n",
            "7/7 [==============================] - 0s 5ms/step - loss: 0.5551 - accuracy: 0.6839 - val_loss: 0.5176 - val_accuracy: 0.7755\n",
            "Epoch 88/100\n",
            "7/7 [==============================] - 0s 5ms/step - loss: 0.5031 - accuracy: 0.6943 - val_loss: 0.4910 - val_accuracy: 0.7347\n",
            "Epoch 89/100\n",
            "7/7 [==============================] - 0s 5ms/step - loss: 0.5991 - accuracy: 0.7150 - val_loss: 0.5046 - val_accuracy: 0.7755\n",
            "Epoch 90/100\n",
            "7/7 [==============================] - 0s 5ms/step - loss: 0.5438 - accuracy: 0.6839 - val_loss: 0.5386 - val_accuracy: 0.6735\n",
            "Epoch 91/100\n",
            "7/7 [==============================] - 0s 5ms/step - loss: 0.5123 - accuracy: 0.7047 - val_loss: 0.5566 - val_accuracy: 0.7347\n",
            "Epoch 92/100\n",
            "7/7 [==============================] - 0s 5ms/step - loss: 0.6613 - accuracy: 0.7150 - val_loss: 0.4949 - val_accuracy: 0.7755\n",
            "Epoch 93/100\n",
            "7/7 [==============================] - 0s 6ms/step - loss: 0.5126 - accuracy: 0.7202 - val_loss: 0.5051 - val_accuracy: 0.7551\n",
            "Epoch 94/100\n",
            "7/7 [==============================] - 0s 5ms/step - loss: 0.5432 - accuracy: 0.7409 - val_loss: 0.5496 - val_accuracy: 0.7143\n",
            "Epoch 95/100\n",
            "7/7 [==============================] - 0s 5ms/step - loss: 0.6079 - accuracy: 0.7202 - val_loss: 0.4655 - val_accuracy: 0.7551\n",
            "Epoch 96/100\n",
            "7/7 [==============================] - 0s 5ms/step - loss: 0.5326 - accuracy: 0.7047 - val_loss: 0.4999 - val_accuracy: 0.7551\n",
            "Epoch 97/100\n",
            "7/7 [==============================] - 0s 5ms/step - loss: 0.4948 - accuracy: 0.7617 - val_loss: 0.4802 - val_accuracy: 0.7959\n",
            "Epoch 98/100\n",
            "7/7 [==============================] - 0s 5ms/step - loss: 0.5108 - accuracy: 0.7772 - val_loss: 0.4601 - val_accuracy: 0.7755\n",
            "Epoch 99/100\n",
            "7/7 [==============================] - 0s 5ms/step - loss: 0.5381 - accuracy: 0.6839 - val_loss: 0.4580 - val_accuracy: 0.7551\n",
            "Epoch 100/100\n",
            "7/7 [==============================] - 0s 5ms/step - loss: 0.4801 - accuracy: 0.7306 - val_loss: 0.4504 - val_accuracy: 0.7551\n"
          ],
          "name": "stdout"
        },
        {
          "output_type": "execute_result",
          "data": {
            "text/plain": [
              "<tensorflow.python.keras.callbacks.History at 0x7fcc365a1128>"
            ]
          },
          "metadata": {
            "tags": []
          },
          "execution_count": 52
        }
      ]
    },
    {
      "cell_type": "markdown",
      "metadata": {
        "id": "1ql1HrTw1-6X",
        "colab_type": "text"
      },
      "source": [
        ""
      ]
    },
    {
      "cell_type": "markdown",
      "metadata": {
        "id": "0sQefnPs3CSW",
        "colab_type": "text"
      },
      "source": [
        "# NOTE:\n",
        "*SO CHECKING THROUGH BOTH OF THESE MODELS, WHAT WE COULD INFER IS THAT,FOR THE PROBLEMS THAT CAN BE SOLVED USING MACHINE LEARNING(ALGORITHMIC BASED),WE SHOULD NOT GO FOR NEURAL NETWORK .AS THE ABOVE MODELS CAN ENSURE THAT SIMPLE MACHINE LEARNING MODELS USED FROM SKLEARN HAD ALMOST SAME ACCURACY METRICS AS NEURAL NETWORK WHICH IS MORE OF A COMPLEX MODEL.*"
      ]
    },
    {
      "cell_type": "code",
      "metadata": {
        "id": "GRelsEMa4SeW",
        "colab_type": "code",
        "colab": {}
      },
      "source": [
        ""
      ],
      "execution_count": null,
      "outputs": []
    }
  ]
}
